{
  "cells": [
    {
      "cell_type": "markdown",
      "metadata": {
        "id": "TNaOosR_4dhH"
      },
      "source": [
        "To-dos\n",
        "* Visualize the big flare prediction probas and actuals from the inference_result.csv file\n"
      ]
    },
    {
      "cell_type": "code",
      "execution_count": 1,
      "metadata": {
        "id": "EAmWCvgkS7je"
      },
      "outputs": [
        {
          "name": "stdout",
          "output_type": "stream",
          "text": [
            "First 5 rows of the data:\n",
            "                                          image_path  big_flare_pred_proba  \\\n",
            "0  /content/drive/MyDrive/ML_project/code_repo/fl...              0.000124   \n",
            "1  /content/drive/MyDrive/ML_project/code_repo/fl...              0.000081   \n",
            "2  /content/drive/MyDrive/ML_project/code_repo/fl...              0.000062   \n",
            "3  /content/drive/MyDrive/ML_project/code_repo/fl...              0.000068   \n",
            "4  /content/drive/MyDrive/ML_project/code_repo/fl...              0.000058   \n",
            "\n",
            "   big_flare_actual  \n",
            "0               0.0  \n",
            "1               0.0  \n",
            "2               0.0  \n",
            "3               0.0  \n",
            "4               0.0  \n",
            "\n",
            "Dataset information:\n",
            "Number of rows: 3331\n",
            "Columns: ['image_path', 'big_flare_pred_proba', 'big_flare_actual']\n"
          ]
        }
      ],
      "source": [
        "# Import pandas\n",
        "import pandas as pd\n",
        "\n",
        "# Read the CSV file\n",
        "inference_result_path = \"./../../data/inference_result.csv\"\n",
        "df = pd.read_csv(inference_result_path)\n",
        "\n",
        "# Display the first few rows\n",
        "print(\"First 5 rows of the data:\")\n",
        "print(df.head())\n",
        "\n",
        "# Show basic information about the dataset\n",
        "print(\"\\nDataset information:\")\n",
        "print(f\"Number of rows: {len(df)}\")\n",
        "print(f\"Columns: {list(df.columns)}\")\n"
      ]
    },
    {
      "cell_type": "code",
      "execution_count": 2,
      "metadata": {},
      "outputs": [],
      "source": [
        "# plot big_flare_pred_proba and big_flare_actual against datetime"
      ]
    },
    {
      "cell_type": "code",
      "execution_count": null,
      "metadata": {},
      "outputs": [],
      "source": []
    }
  ],
  "metadata": {
    "accelerator": "GPU",
    "colab": {
      "gpuType": "T4",
      "machine_shape": "hm",
      "provenance": []
    },
    "kernelspec": {
      "display_name": "mlproject",
      "language": "python",
      "name": "python3"
    },
    "language_info": {
      "codemirror_mode": {
        "name": "ipython",
        "version": 3
      },
      "file_extension": ".py",
      "mimetype": "text/x-python",
      "name": "python",
      "nbconvert_exporter": "python",
      "pygments_lexer": "ipython3",
      "version": "3.12.1"
    }
  },
  "nbformat": 4,
  "nbformat_minor": 0
}
