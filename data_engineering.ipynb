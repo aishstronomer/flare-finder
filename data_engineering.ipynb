{
 "cells": [
  {
   "cell_type": "code",
   "execution_count": 1,
   "metadata": {
    "ExecuteTime": {
     "end_time": "2023-03-26T18:57:55.199872Z",
     "start_time": "2023-03-26T18:57:53.702081Z"
    }
   },
   "outputs": [
    {
     "name": "stdout",
     "output_type": "stream",
     "text": [
      "['x']\n",
      "[[0.39325193 0.4508787  0.6741462  ... 0.         0.         0.        ]\n",
      " [0.39325193 0.4508787  0.6741462  ... 0.45349976 1.1797558  1.1797558 ]\n",
      " [0.21228012 0.16974488 0.28257698 ... 0.73703736 1.9662583  1.9662583 ]\n",
      " ...\n",
      " [0.22496523 0.05617878 0.22542542 ... 0.1680575  0.23913296 0.59011924]\n",
      " [0.14044702 0.02808561 0.14044914 ... 0.2799151  0.19660302 0.28041118]\n",
      " [0.11235763 0.0842682  0.14044492 ... 0.43436423 0.25304598 0.2804115 ]]\n",
      "(512, 512)\n"
     ]
    }
   ],
   "source": [
    "import numpy as np\n",
    "import glob\n",
    "\n",
    "# all_files = glob.glob(\"/Volumes/New Volume/01/01/.*npz\")\n",
    "# file = all_files[0]\n",
    "# print('file is :', file)\n",
    "# data = np.load(file, allow_pickle=True)\n",
    "# data\n",
    "\n",
    "data = np.load('/Users/aishwarya/Library/CloudStorage/GoogleDrive-aishsk6@vt.edu/My Drive/ML_project/Test_folder/Test_01/AIA20150101_0000_0094.npz')\n",
    "print(data.files)\n",
    "x = data['x']\n",
    "print(x)\n",
    "print(x.shape)"
   ]
  },
  {
   "cell_type": "code",
   "execution_count": null,
   "metadata": {
    "ExecuteTime": {
     "end_time": "2023-03-26T19:00:07.332996Z",
     "start_time": "2023-03-26T19:00:07.306961Z"
    }
   },
   "outputs": [],
   "source": [
    "import re, datetime\n",
    "\n",
    "s = '/Users/aishwarya/Library/CloudStorage/GoogleDrive-aishsk6@vt.edu/My Drive/ML_project/Test_folder/Test_01/AIA20150101_0000_0094.npz'\n",
    "match = re.search('\\d{4}\\d{2}\\d{2}_\\d{4}', s)\n",
    "print(match)\n",
    "date = datetime.datetime.strptime(match.group(), '%Y%m%d_%M%S').date()\n",
    "time = datetime.datetime.strptime(match.group(), '%Y%m%d_%M%S').time()\n",
    "\n",
    "print(date)\n",
    "print(time)\n"
   ]
  },
  {
   "cell_type": "code",
   "execution_count": null,
   "metadata": {
    "ExecuteTime": {
     "end_time": "2023-03-26T19:03:52.518443Z",
     "start_time": "2023-03-26T19:03:51.229301Z"
    }
   },
   "outputs": [],
   "source": [
    "from PIL import Image\n",
    "\n",
    "img = Image.fromarray(x)\n",
    "img.show()"
   ]
  },
  {
   "cell_type": "code",
   "execution_count": null,
   "metadata": {
    "ExecuteTime": {
     "end_time": "2023-03-26T19:30:22.423926Z",
     "start_time": "2023-03-26T19:30:22.301473Z"
    }
   },
   "outputs": [],
   "source": [
    "%matplotlib notebook\n",
    "import matplotlib.pyplot as plt\n",
    "\n",
    "img = Image.fromarray(x)\n",
    "plt.imshow(x, cmap='coolwarm')"
   ]
  },
  {
   "cell_type": "code",
   "execution_count": null,
   "metadata": {
    "ExecuteTime": {
     "end_time": "2023-02-09T17:27:23.596545Z",
     "start_time": "2023-02-09T17:27:23.596515Z"
    }
   },
   "outputs": [],
   "source": [
    "# conda install -c conda-forge aiapy"
   ]
  },
  {
   "cell_type": "code",
   "execution_count": null,
   "metadata": {
    "ExecuteTime": {
     "end_time": "2023-03-25T21:50:01.648725Z",
     "start_time": "2023-03-25T21:50:01.631108Z"
    }
   },
   "outputs": [],
   "source": [
    "# flare_file = glob.glob(\"/Users/aishwarya/Google Drive/ML_project/2015/2015_events/*.txt\")\n",
    "\n",
    "#Open the file\n",
    "# infile = open('/Users/aishwarya/Google Drive/ML_project/2015/2015_events/20141230events.txt', 'r') # 'r' says we are opening the file to read, infile is the opened file object that we will read from\n",
    "infile = open('/Users/aishwarya/Library/CloudStorage/GoogleDrive-aishsk6@vt.edu/My Drive/ML_project/2015_events/20150111events.txt')\n",
    "#Store the data from the file in a variable\n",
    "data = infile.read()\n",
    "\n",
    "#Print the data in the file\n",
    "print(data)\n",
    "\n",
    "#close the file\n",
    "infile.close()\n"
   ]
  },
  {
   "cell_type": "code",
   "execution_count": null,
   "metadata": {
    "ExecuteTime": {
     "end_time": "2023-03-26T18:42:26.617464Z",
     "start_time": "2023-03-26T18:42:26.601641Z"
    }
   },
   "outputs": [],
   "source": [
    "file = '/Users/aishwarya/Library/CloudStorage/GoogleDrive-aishsk6@vt.edu/My Drive/ML_project/2015_events/20150111events.txt'\n",
    "\n",
    "separator = ','\n",
    "tmp = []\n",
    "with open(file, 'r') as infile:\n",
    "    data = infile.readlines()\n",
    "    for i in range(len(data)):\n",
    "        if i >= 13:\n",
    "#             print(i)\n",
    "            i_d = data[i]\n",
    "#             print(i_d)\n",
    "            list_row = i_d.split()\n",
    "#             print(list_row)\n",
    "            if list_row == []:\n",
    "#                 print('it is an empty_list')\n",
    "                continue\n",
    "#             print(i)\n",
    "#             print(list_row)\n",
    "            if '+' in list_row:\n",
    "#                 print('yes there is a +')\n",
    "                list_row = [i for i in list_row if i != '+']\n",
    "#                 print(list_row)\n",
    "            if len(list_row) == 9:\n",
    "                mylist = list_row\n",
    "            elif len(list_row) == 10:\n",
    "                mylist = list_row[:-1]\n",
    "#                 print(mylist)\n",
    "            elif len(list_row) == 11:\n",
    "                mylist = list_row[:-2]\n",
    "            else:\n",
    "                continue\n",
    "#             print(mylist)\n",
    "#             i_d = separator.join(list_row)\n",
    "#             print(i_d)\n",
    "            tmp.append(mylist)\n",
    "\n",
    "            \n",
    "print(tmp)\n",
    "            "
   ]
  },
  {
   "cell_type": "code",
   "execution_count": null,
   "metadata": {
    "ExecuteTime": {
     "end_time": "2023-03-26T18:42:29.899304Z",
     "start_time": "2023-03-26T18:42:29.843019Z"
    }
   },
   "outputs": [],
   "source": [
    "pd.DataFrame(tmp, columns = ['Event', 'Begin', 'Max', 'End', 'Obs', 'Q', \n",
    "                             'Type', 'Loc/Freq', 'Particulars_a'])"
   ]
  },
  {
   "cell_type": "code",
   "execution_count": null,
   "metadata": {
    "ExecuteTime": {
     "end_time": "2023-03-25T21:50:31.763980Z",
     "start_time": "2023-03-25T21:50:31.755271Z"
    }
   },
   "outputs": [],
   "source": [
    "# Read in the file\n",
    "with open('/Users/aishwarya/Library/CloudStorage/GoogleDrive-aishsk6@vt.edu/My Drive/ML_project/2015_events/20150111events.txt'\n",
    "          , 'r') as file :\n",
    "  filedata = file.read()\n",
    "\n",
    "# Replace the target string\n",
    "filedata = filedata.replace('\\t', ',')\n",
    "\n",
    "# Write the file out again\n",
    "with open('/Users/aishwarya/Library/CloudStorage/GoogleDrive-aishsk6@vt.edu/My Drive/ML_project/2015_events/20150111events.txt', 'w') as file:\n",
    "  file.write(filedata)"
   ]
  },
  {
   "cell_type": "code",
   "execution_count": null,
   "metadata": {
    "ExecuteTime": {
     "end_time": "2023-03-25T21:50:34.115208Z",
     "start_time": "2023-03-25T21:50:34.105095Z"
    }
   },
   "outputs": [],
   "source": [
    "filedata"
   ]
  },
  {
   "cell_type": "code",
   "execution_count": null,
   "metadata": {
    "ExecuteTime": {
     "end_time": "2023-03-25T21:51:58.584116Z",
     "start_time": "2023-03-25T21:51:58.571563Z"
    }
   },
   "outputs": [],
   "source": [
    "with open('/Users/aishwarya/Library/CloudStorage/GoogleDrive-aishsk6@vt.edu/My Drive/ML_project/2015_events/20150111events.txt') as fin, open('/Users/aishwarya/Library/CloudStorage/GoogleDrive-aishsk6@vt.edu/My Drive/ML_project/2015_events/new20150111events.txt', 'w') as fout:\n",
    "    for line in fin:\n",
    "        fout.write(line.replace('\\t', ','))"
   ]
  },
  {
   "cell_type": "code",
   "execution_count": null,
   "metadata": {
    "ExecuteTime": {
     "end_time": "2023-03-25T21:55:07.866652Z",
     "start_time": "2023-03-25T21:55:07.855488Z"
    }
   },
   "outputs": [],
   "source": [
    "fin = open(\"/Users/aishwarya/Library/CloudStorage/GoogleDrive-aishsk6@vt.edu/My Drive/ML_project/2015_events/20150111events.txt\", \"rt\")\n",
    "fout = open(\"/Users/aishwarya/Library/CloudStorage/GoogleDrive-aishsk6@vt.edu/My Drive/ML_project/2015_events/new20150111events.txt\", \"wt\")\n",
    "\n",
    "for line in fin:\n",
    "    fout.write(' '.join(line.split()))\n",
    "\n",
    "fin.close()\n",
    "fout.close()"
   ]
  },
  {
   "cell_type": "code",
   "execution_count": null,
   "metadata": {
    "ExecuteTime": {
     "end_time": "2023-03-25T22:19:48.521134Z",
     "start_time": "2023-03-25T22:19:48.509078Z"
    }
   },
   "outputs": [],
   "source": [
    "import re\n",
    "\n",
    "fin = open(\"/Users/aishwarya/Library/CloudStorage/GoogleDrive-aishsk6@vt.edu/My Drive/ML_project/2015_events/20150111events.txt\", \"rt\")\n",
    "fout = open(\"/Users/aishwarya/Library/CloudStorage/GoogleDrive-aishsk6@vt.edu/My Drive/ML_project/2015_events/out.txt\", \"wt\")\n",
    "\n",
    "for line in fin:\n",
    "    fout.write(re.sub('[^\\S\\r\\n]+', ',', line))\n",
    "    \n",
    "fin.close()\n",
    "fout.close()"
   ]
  },
  {
   "cell_type": "code",
   "execution_count": null,
   "metadata": {
    "ExecuteTime": {
     "end_time": "2023-03-25T22:19:49.013665Z",
     "start_time": "2023-03-25T22:19:48.999932Z"
    }
   },
   "outputs": [],
   "source": [
    "file = '/Users/aishwarya/Library/CloudStorage/GoogleDrive-aishsk6@vt.edu/My Drive/ML_project/2015_events/out.txt'\n",
    "with open(file, 'r') as file:\n",
    "    data = file.read()\n",
    "data"
   ]
  },
  {
   "cell_type": "code",
   "execution_count": null,
   "metadata": {
    "ExecuteTime": {
     "end_time": "2023-03-25T22:44:14.854078Z",
     "start_time": "2023-03-25T22:44:14.834072Z"
    }
   },
   "outputs": [],
   "source": [
    "file = open('/Users/aishwarya/Library/CloudStorage/GoogleDrive-aishsk6@vt.edu/My Drive/ML_project/2015_events/out.txt',\"r\") #<-- Opening file as read mode\n",
    "data = file.read()         #<-- Reading data\n",
    "file.close()               #<-- Closing file\n",
    "data = data.split(\"\\n\")    #<-- Splitting by new lines\n",
    "for i in data:             #<-- Looping through splitted data\n",
    "    print(i)"
   ]
  },
  {
   "cell_type": "code",
   "execution_count": null,
   "metadata": {
    "ExecuteTime": {
     "end_time": "2023-03-25T22:41:21.447791Z",
     "start_time": "2023-03-25T22:41:21.383611Z"
    }
   },
   "outputs": [],
   "source": [
    "import pandas as pd\n",
    "\n",
    "df = pd.read_csv('/Users/aishwarya/Library/CloudStorage/GoogleDrive-aishsk6@vt.edu/My Drive/ML_project/2015_events/out.txt',\n",
    "                skiprows = 12)\n",
    "df"
   ]
  },
  {
   "cell_type": "code",
   "execution_count": null,
   "metadata": {},
   "outputs": [],
   "source": [
    "> read each line into string, split using .split, remove if there is a '+', check if the length is 9 if not discard all values greater than 9\n"
   ]
  },
  {
   "cell_type": "code",
   "execution_count": null,
   "metadata": {},
   "outputs": [],
   "source": []
  }
 ],
 "metadata": {
  "kernelspec": {
   "display_name": "Python 3 (ipykernel)",
   "language": "python",
   "name": "python3"
  },
  "language_info": {
   "codemirror_mode": {
    "name": "ipython",
    "version": 3
   },
   "file_extension": ".py",
   "mimetype": "text/x-python",
   "name": "python",
   "nbconvert_exporter": "python",
   "pygments_lexer": "ipython3",
   "version": "3.7.11"
  }
 },
 "nbformat": 4,
 "nbformat_minor": 4
}
