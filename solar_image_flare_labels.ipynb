{
  "cells": [
    {
      "cell_type": "markdown",
      "metadata": {
        "colab_type": "text",
        "id": "view-in-github"
      },
      "source": [
        "<a href=\"https://colab.research.google.com/github/aishstronomer/flare-finder/blob/main/solar_image_flare_labels.ipynb\" target=\"_parent\"><img src=\"https://colab.research.google.com/assets/colab-badge.svg\" alt=\"Open In Colab\"/></a>"
      ]
    },
    {
      "cell_type": "markdown",
      "metadata": {
        "id": "pwRqVNEIMWck"
      },
      "source": [
        "to-do:\n",
        " - store solar_images big-flare labels in a file: big_flare_labels.csv"
      ]
    },
    {
      "cell_type": "code",
      "execution_count": 1,
      "metadata": {
        "colab": {
          "base_uri": "https://localhost:8080/"
        },
        "id": "DvLt_9urGY1f",
        "outputId": "1ffbb7af-f17f-4c70-c8ac-6677a5ab57c0"
      },
      "outputs": [],
      "source": [
        "# set globals\n",
        "\n",
        "# Do Google Colab things\n",
        "try:\n",
        "    from google.colab import drive\n",
        "\n",
        "    drive.mount(\"/content/drive\", force_remount=True)\n",
        "    IN_COLAB = True\n",
        "except:\n",
        "    IN_COLAB = False\n",
        "\n",
        "# standard imports\n",
        "import glob\n",
        "import os\n",
        "import pandas as pd\n",
        "import sys"
      ]
    },
    {
      "cell_type": "code",
      "execution_count": 2,
      "metadata": {
        "colab": {
          "base_uri": "https://localhost:8080/"
        },
        "id": "eu63o4CW990k",
        "outputId": "ef7816e0-7881-447f-dbc5-374c6f016e01"
      },
      "outputs": [
        {
          "data": {
            "text/plain": [
              "False"
            ]
          },
          "execution_count": 2,
          "metadata": {},
          "output_type": "execute_result"
        }
      ],
      "source": [
        "# we want a function get_is_big_flare() that has the following schema:\n",
        "# - input: solar_image_path\n",
        "# - output: is_big_flare (bool)\n",
        "\n",
        "\n",
        "def get_is_big_flare(solar_image_path, big_flare_max_dttimes, tolerance):\n",
        "\n",
        "    is_big_flare = False\n",
        "\n",
        "    # get datetime of solar_image_path: solar_image_datetime\n",
        "    solar_image_fname = os.path.basename(solar_image_path)\n",
        "    solar_image_datetime = pd.to_datetime(\n",
        "        solar_image_fname[0 : solar_image_fname.rfind(\".png\")]\n",
        "    ).replace(tzinfo=None)\n",
        "\n",
        "    # compare solar_image_datetime with max_datetimes and set is_big_flare to True\n",
        "    # if solar_image_datetime within some tolerance of max_datetimes\n",
        "    min_time_delta = min(abs(solar_image_datetime - big_flare_max_dttimes))\n",
        "    if min_time_delta < tolerance:\n",
        "        is_big_flare = True\n",
        "\n",
        "    return is_big_flare\n",
        "\n",
        "\n",
        "# get big_flare_max_dttimes\n",
        "path_to_coderepo = (\n",
        "    \"/content/drive/MyDrive/ML_project/code_repo/flare-finder\" if IN_COLAB else \".\"\n",
        ")\n",
        "goes_file_path = f\"{path_to_coderepo}/goes_events_clean_2015.csv\"\n",
        "goes_events_df = pd.read_csv(goes_file_path)\n",
        "goes_mx_events = goes_events_df[\n",
        "    goes_events_df[\"Particulars_a\"].str.lower().str.startswith((\"m\", \"x\"))\n",
        "]\n",
        "big_flare_max_dttimes = pd.to_datetime(goes_mx_events[\"max_datetime\"]).dropna()\n",
        "\n",
        "get_is_big_flare(\n",
        "    f\"{path_to_coderepo}/../../data/sdo_images/2015-01-01 00:00:12.340000+00:00.png\",\n",
        "    big_flare_max_dttimes,\n",
        "    pd.to_timedelta(10, \"min\"),\n",
        ")"
      ]
    },
    {
      "cell_type": "code",
      "execution_count": 3,
      "metadata": {
        "colab": {
          "base_uri": "https://localhost:8080/",
          "height": 112
        },
        "id": "tSMNly88MPcH",
        "outputId": "58fb481a-88e8-49e2-82ae-fc580181992a"
      },
      "outputs": [
        {
          "data": {
            "text/html": [
              "<div>\n",
              "<style scoped>\n",
              "    .dataframe tbody tr th:only-of-type {\n",
              "        vertical-align: middle;\n",
              "    }\n",
              "\n",
              "    .dataframe tbody tr th {\n",
              "        vertical-align: top;\n",
              "    }\n",
              "\n",
              "    .dataframe thead th {\n",
              "        text-align: right;\n",
              "    }\n",
              "</style>\n",
              "<table border=\"1\" class=\"dataframe\">\n",
              "  <thead>\n",
              "    <tr style=\"text-align: right;\">\n",
              "      <th></th>\n",
              "      <th>solar_image_filename</th>\n",
              "      <th>is_big_flare</th>\n",
              "      <th>time_tolerance_minutes</th>\n",
              "    </tr>\n",
              "  </thead>\n",
              "  <tbody>\n",
              "    <tr>\n",
              "      <th>0</th>\n",
              "      <td>2015-01-08 07:00:12.340000+00:00.png</td>\n",
              "      <td>False</td>\n",
              "      <td>10.0</td>\n",
              "    </tr>\n",
              "    <tr>\n",
              "      <th>1</th>\n",
              "      <td>2015-04-03 23:00:12.340000+00:00.png</td>\n",
              "      <td>False</td>\n",
              "      <td>10.0</td>\n",
              "    </tr>\n",
              "  </tbody>\n",
              "</table>\n",
              "</div>"
            ],
            "text/plain": [
              "                   solar_image_filename  is_big_flare  time_tolerance_minutes\n",
              "0  2015-01-08 07:00:12.340000+00:00.png         False                    10.0\n",
              "1  2015-04-03 23:00:12.340000+00:00.png         False                    10.0"
            ]
          },
          "execution_count": 3,
          "metadata": {},
          "output_type": "execute_result"
        }
      ],
      "source": [
        "# get labels for solar images and store in big_flare_labels.csv\n",
        "\n",
        "\n",
        "def get_big_flare_labels(solar_images_folder, goes_file_path, big_flare_time_tolerance):\n",
        "    big_flare_labels_df = pd.DataFrame(\n",
        "        columns=[\"solar_image_filename\", \"is_big_flare\", \"time_tolerance_minutes\"]\n",
        "    )\n",
        "\n",
        "    # get big_flare_max_dttimes\n",
        "    goes_events_df = pd.read_csv(goes_file_path)\n",
        "    goes_mx_events = goes_events_df[\n",
        "        goes_events_df[\"Particulars_a\"].str.lower().str.startswith((\"m\", \"x\"))\n",
        "    ]\n",
        "    big_flare_max_dttimes = pd.to_datetime(goes_mx_events[\"max_datetime\"]).dropna()\n",
        "\n",
        "    # get solar_image_paths\n",
        "    solar_image_paths = glob.glob(f\"{solar_images_folder}/*png\")\n",
        "\n",
        "    # for each solar image path, get is_big_flare and populate df\n",
        "    time_tolerance_minutes = big_flare_time_tolerance.total_seconds() / 60\n",
        "    for i, solar_image_path in enumerate(solar_image_paths[0:2]):\n",
        "        is_big_flare = get_is_big_flare(\n",
        "            solar_image_path, big_flare_max_dttimes, big_flare_time_tolerance\n",
        "        )\n",
        "        big_flare_labels_df.loc[len(big_flare_labels_df)] = (\n",
        "            os.path.basename(solar_image_path),\n",
        "            is_big_flare,\n",
        "            time_tolerance_minutes,\n",
        "        )\n",
        "\n",
        "    return big_flare_labels_df\n",
        "\n",
        "\n",
        "goes_file_path = f\"{path_to_coderepo}/goes_events_clean_2015.csv\"\n",
        "solar_images_folder = f\"{path_to_coderepo}/../../data/sdo_images\"\n",
        "\n",
        "big_flare_labels_df = get_big_flare_labels(\n",
        "    solar_images_folder, goes_file_path, pd.to_timedelta(10, \"min\")\n",
        ")\n",
        "big_flare_labels_df.to_csv(f\"{solar_images_folder}/big_flare_labels.csv\", index=False)\n",
        "pd.read_csv(f\"{solar_images_folder}/big_flare_labels.csv\")"
      ]
    },
    {
      "cell_type": "code",
      "execution_count": null,
      "metadata": {
        "id": "uMB-sgv-dktt"
      },
      "outputs": [],
      "source": []
    }
  ],
  "metadata": {
    "colab": {
      "authorship_tag": "ABX9TyMtwwHtgNd1USFXpX7GzbPX",
      "include_colab_link": true,
      "provenance": []
    },
    "kernelspec": {
      "display_name": "Python 3",
      "name": "python3"
    },
    "language_info": {
      "codemirror_mode": {
        "name": "ipython",
        "version": 3
      },
      "file_extension": ".py",
      "mimetype": "text/x-python",
      "name": "python",
      "nbconvert_exporter": "python",
      "pygments_lexer": "ipython3",
      "version": "3.12.1"
    }
  },
  "nbformat": 4,
  "nbformat_minor": 0
}
