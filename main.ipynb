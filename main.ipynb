{
  "cells": [
    {
      "cell_type": "markdown",
      "metadata": {
        "id": "view-in-github",
        "colab_type": "text"
      },
      "source": [
        "<a href=\"https://colab.research.google.com/github/aishstronomer/flare-finder/blob/main/main.ipynb\" target=\"_parent\"><img src=\"https://colab.research.google.com/assets/colab-badge.svg\" alt=\"Open In Colab\"/></a>"
      ]
    },
    {
      "cell_type": "code",
      "execution_count": null,
      "metadata": {
        "id": "GqRf6hjMYRAR"
      },
      "outputs": [],
      "source": [
        "# set globals\n",
        "\n",
        "# Do Google Colab things\n",
        "try:\n",
        "    from google.colab import drive\n",
        "\n",
        "    drive.mount(\"/content/drive\", force_remount=True)\n",
        "    IN_COLAB = True\n",
        "except:\n",
        "    IN_COLAB = False\n",
        "\n",
        "# import standard libraries\n",
        "import pandas as pd\n",
        "import sys\n",
        "import glob\n",
        "import matplotlib.pyplot as plt\n",
        "\n",
        "# import custom libraries\n",
        "path_to_coderepo = (\n",
        "    \"/content/drive/MyDrive/ML_project/code_repo/flare-finder\" if IN_COLAB else \".\"\n",
        ")\n",
        "if IN_COLAB:\n",
        "    !pip install -r {path_to_coderepo}/requirements.txt\n",
        "if f'{path_to_coderepo}/src' not in sys.path:\n",
        "    sys.path.append(f'{path_to_coderepo}/src')\n",
        "from goes_file_parser import GOESFileParser\n",
        "from sdo_image_fetcher import SDOImageFetcher"
      ]
    },
    {
      "cell_type": "code",
      "execution_count": null,
      "metadata": {
        "id": "2-YUeQccYRAS"
      },
      "outputs": [],
      "source": [
        "# get 2015 GOES events as df\n",
        "\n",
        "directory_path = f\"{path_to_coderepo}/../../2015_events\"\n",
        "df = GOESFileParser.get_goes_events_df_for_interval(directory_path, \"20150101\", \"20151231\")\n",
        "df.to_csv(\"goes_events_clean_2015.csv\", index=False)"
      ]
    },
    {
      "cell_type": "code",
      "execution_count": null,
      "metadata": {
        "id": "TK8QF82FYRAS"
      },
      "outputs": [],
      "source": [
        "# fetch the solar images\n",
        "# - can take long depending on connection\n",
        "# - code is fault tolerant; if connection is lost, it will resume from where it left off\n",
        "\n",
        "# common variables\n",
        "s3_root_for_sdoml_year_zarr = (\n",
        "    \"s3://gov-nasa-hdrl-data1/contrib/fdl-sdoml/fdl-sdoml-v2/sdomlv2.zarr/2015/\"\n",
        ")\n",
        "sav_folder_path = f\"{path_to_coderepo}/../../data/sdo_images\"\n",
        "\n",
        "# fetch solar images for year 2015 for every hour-start\n",
        "desired_times = pd.date_range(\n",
        "    start=\"2015-01-01 00:00:00\", end=\"2015-12-31 23:59:59\", freq=\"60T\", tz=\"UTC\"\n",
        ")\n",
        "SDOImageFetcher.get_sdo_solar_images_from_aws(\n",
        "    s3_root_for_sdoml_year_zarr,\n",
        "    desired_times,\n",
        "    sav_folder_path,\n",
        "    tolerance=pd.Timedelta(days=1000),\n",
        "    is_verbose=False,\n",
        ")\n",
        "\n",
        "# fetch solar images for goes big flare events for year 2015\n",
        "# - Big flare means M/X class flare\n",
        "# - We specify a 10 min tolerance for the flare event time\n",
        "goes_events_data = pd.read_csv(\"goes_events_clean_2015.csv\")\n",
        "goes_MX_events = goes_events_data[\n",
        "    goes_events_data[\"Particulars_a\"].str.lower().str.startswith((\"m\", \"x\"))\n",
        "]\n",
        "goes_MX_event_times = pd.to_datetime(\n",
        "    goes_MX_events[\"max_datetime\"].fillna(goes_MX_events[\"begin_datetime\"]), utc=True\n",
        ").tolist()\n",
        "SDOImageFetcher.get_sdo_solar_images_from_aws(\n",
        "    s3_root_for_sdoml_year_zarr,\n",
        "    goes_MX_event_times,\n",
        "    sav_folder_path,\n",
        "    tolerance=pd.Timedelta(minutes=10),\n",
        "    is_verbose=False,\n",
        ")\n",
        "\n",
        "# display a fetched solar image\n",
        "%matplotlib inline\n",
        "image_path = glob.glob(sav_folder_path + \"/*.png\")[0]\n",
        "print(f\"image_path = {image_path}\" )\n",
        "plt.axis(\"off\")\n",
        "plt.imshow(plt.imread(image_path))"
      ]
    },
    {
      "cell_type": "code",
      "execution_count": null,
      "metadata": {
        "id": "LCkVv9LgYRAS"
      },
      "outputs": [],
      "source": []
    },
    {
      "cell_type": "code",
      "execution_count": null,
      "metadata": {
        "id": "9wil_AmIYRAS"
      },
      "outputs": [],
      "source": []
    }
  ],
  "metadata": {
    "kernelspec": {
      "display_name": "Python 3 (ipykernel)",
      "language": "python",
      "name": "python3"
    },
    "language_info": {
      "codemirror_mode": {
        "name": "ipython",
        "version": 3
      },
      "file_extension": ".py",
      "mimetype": "text/x-python",
      "name": "python",
      "nbconvert_exporter": "python",
      "pygments_lexer": "ipython3",
      "version": "3.12.1"
    },
    "colab": {
      "provenance": [],
      "include_colab_link": true
    }
  },
  "nbformat": 4,
  "nbformat_minor": 0
}